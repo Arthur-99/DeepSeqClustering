{
 "cells": [
  {
   "cell_type": "code",
   "execution_count": 1,
   "id": "dfd39f20-1d4d-474d-be87-284d759647c6",
   "metadata": {},
   "outputs": [
    {
     "name": "stdout",
     "output_type": "stream",
     "text": [
      "[Info] parameters: Namespace(agg='attn', batch_size=32, d_inner_hid=64, d_k=16, d_model=32, d_v=16, data='data_sep/', device=device(type='cuda', index=1), dropout=0.1, epoch=1, lr=0.0001, model='cstpp', n_comps=2, n_head=2, n_layers=2, smooth=0.1)\n",
      "[Info] Loading train data...\n",
      "[Info] Loading dev data...\n",
      "[Info] Loading test data...\n",
      "[Info] reloading data: scaling timestamps to 0.921 times of the original\n",
      "[Info] Loading train data...\n",
      "[Info] Loading dev data...\n",
      "[Info] Loading test data...\n"
     ]
    }
   ],
   "source": [
    "import torch\n",
    "import utils\n",
    "import constants\n",
    "from dataset import prepare_dataloader\n",
    "\n",
    "utils.set_seed(42)\n",
    "parser = utils.get_parser()\n",
    "\n",
    "opt = parser.parse_args(args=['-data', \n",
    "                              'data_sep/', \n",
    "                              '-n_layers', '2',\n",
    "                              '-batch_size', '32', '-d_model', '32', \"-d_inner_hid\", '64', '-n_head', '2', '-lr', '1e-4',\n",
    "                              '-model', 'cstpp', '-n_comps', '2', '-epoch', '1', '-device', '1'])\n",
    "if torch.cuda.is_available() and opt.device != -1:\n",
    "    opt.device = torch.device('cuda:' + str(opt.device))  \n",
    "else:\n",
    "    opt.device = torch.device('cpu')\n",
    "print('[Info] parameters: {}'.format(opt))\n",
    "\n",
    "trainloader, testloader, num_types = prepare_dataloader(opt)\n",
    "time_scale = utils.get_time_scale(trainloader)\n",
    "print('[Info] reloading data: scaling timestamps to {:.3f} times of the original'.format(1 / time_scale))\n",
    "trainloader, testloader, num_types = prepare_dataloader(opt, time_scale)\n",
    "\n",
    "batch = next(iter(trainloader)) # times, time intervals, markers, clusters"
   ]
  },
  {
   "cell_type": "code",
   "execution_count": 2,
   "id": "3d41b52a-0ec7-40a0-9b42-7c74c7ed03f1",
   "metadata": {},
   "outputs": [],
   "source": [
    "times, intervals, markers, clusters = batch"
   ]
  },
  {
   "cell_type": "code",
   "execution_count": 3,
   "id": "970f1ca2-3eab-45a8-9bfd-de9509a97ca9",
   "metadata": {},
   "outputs": [],
   "source": [
    "import torch.nn.functional as F\n",
    "from torch import nn, optim\n",
    "\n",
    "import matplotlib.pyplot as plt\n",
    "%matplotlib inline"
   ]
  },
  {
   "cell_type": "code",
   "execution_count": 4,
   "id": "b5025b2c-b246-4172-9bf6-9709341e9360",
   "metadata": {},
   "outputs": [],
   "source": [
    "from models.eemb import EventEmb, TimeEncode\n",
    "from models.tfm import TfmEnc, TfmEncLayer\n",
    "from einops import rearrange, repeat"
   ]
  },
  {
   "cell_type": "code",
   "execution_count": 5,
   "id": "62009e57-16e9-4454-a133-c4a0723f0ee7",
   "metadata": {},
   "outputs": [],
   "source": [
    "ee = EventEmb(d_model=opt.d_model, marker_num=num_types)"
   ]
  },
  {
   "cell_type": "code",
   "execution_count": 6,
   "id": "d906cf18-cc17-4653-8f11-35ee88c60c71",
   "metadata": {},
   "outputs": [],
   "source": [
    "class InferenceNetwork(nn.Module):\n",
    "    # q(Z | X)\n",
    "    def __init__(self, d_model, n_layer, n_head, K):\n",
    "        super().__init__()\n",
    "        self.enc = TfmEnc(n_layer, TfmEncLayer, d_model=d_model, n_head=n_head)\n",
    "        self.lin = nn.Linear(d_model, K)\n",
    "        \n",
    "    def forward(self, x, pad_mask, attn_mask):\n",
    "        h = self.enc(x, pad_mask, attn_mask) # (b, s, d)\n",
    "        logits = self.lin(h) # (b, s, k)\n",
    "        return logits\n",
    "        \n",
    "net = InferenceNetwork(d_model=opt.d_model, n_layer=opt.n_layers, n_head=opt.n_head, K=opt.n_comps)\n",
    "# logits = net(x, pad_mask, attn_mask)"
   ]
  },
  {
   "cell_type": "code",
   "execution_count": 7,
   "id": "00bc4fa2-73ef-4dfe-9fb2-10da17304d9b",
   "metadata": {},
   "outputs": [],
   "source": [
    "from models.ctfm import cTfmEnc, cTfmEncLayer\n",
    "    \n",
    "cte = cTfmEnc(n_layer=3, layer=cTfmEncLayer, d_model=opt.d_model, n_head=opt.n_head)"
   ]
  },
  {
   "cell_type": "code",
   "execution_count": 8,
   "id": "aefbe2b2-aeea-4ab5-9d11-ee1fd23e4835",
   "metadata": {},
   "outputs": [
    {
     "name": "stdout",
     "output_type": "stream",
     "text": [
      "tpp_loss: -38.89824295043945 kl_loss: 0.003470358205959201\n",
      "ground truth:\n"
     ]
    },
    {
     "data": {
      "image/png": "[encoded data removed]",
      "text/plain": [
       "<Figure size 432x288 with 1 Axes>"
      ]
     },
     "metadata": {
      "needs_background": "light"
     },
     "output_type": "display_data"
    },
    {
     "name": "stdout",
     "output_type": "stream",
     "text": [
      "inference:\n"
     ]
    },
    {
     "data": {
      "image/png": "[encoded data removed]",
      "text/plain": [
       "<Figure size 432x288 with 1 Axes>"
      ]
     },
     "metadata": {
      "needs_background": "light"
     },
     "output_type": "display_data"
    }
   ],
   "source": [
    "# o_last, t_last, t -> log_prob\n",
    "from models.tpp import TPP\n",
    "    \n",
    "tpp = TPP(d_model=opt.d_model, marker_num=num_types, device=opt.device)\n",
    "\n",
    "import itertools\n",
    "optimizer = optim.Adam(itertools.chain(\n",
    "    list(ee.parameters()),\n",
    "    list(net.parameters()),\n",
    "    list(cte.parameters()),\n",
    "    list(tpp.parameters()),\n",
    "))\n",
    "\n",
    "for epo in range(opt.epoch):\n",
    "    for times, _, markers, comps in trainloader:\n",
    "        # encoder\n",
    "        x = ee(times, markers)\n",
    "        pad_mask = (markers == constants.PAD) # (b, s)\n",
    "        attn_mask = torch.triu(torch.ones(x.shape[-2], x.shape[-2]), diagonal=1).bool() # (s, s)\n",
    "        logits = net(x, pad_mask, attn_mask) # pi logits\n",
    "        pi = F.softmax(logits, -1)\n",
    "        \n",
    "        # loss\n",
    "        tpp_loss = []\n",
    "        for i in range(5):\n",
    "            # sampler\n",
    "            z = F.gumbel_softmax(logits, tau=1, hard=True) # b, s, k\n",
    "\n",
    "            # decoder\n",
    "            h = net.enc(x, pad_mask, attn_mask)\n",
    "            h_last = h.clone()\n",
    "            h_last[:, 1:] = h[:, :-1]\n",
    "            t_last = times.clone()\n",
    "            t_last[:, 1:] = times[:, :-1]\n",
    "            dt_last = times - t_last\n",
    "            first_event_mask = torch.zeros_like(pad_mask, device=pad_mask.device)\n",
    "            first_event_mask[:, 0] = 1\n",
    "            \n",
    "            # h = cte(x, z, pad_mask, attn_mask)\n",
    "            # h_last, dt_last, first_event_mask = utils.get_last_event_info(h, times, z, pad_mask, K=opt.n_comps) # last event in the same cluster\n",
    "         \n",
    "            tpp_loss.append(tpp.loss(h_last, dt_last, markers, first_event_mask | pad_mask, (pi, z)))\n",
    "\n",
    "        tpp_loss = torch.tensor(tpp_loss).mean()\n",
    "\n",
    "        \n",
    "        kl = pi * torch.log(pi * opt.n_comps)\n",
    "        kl = kl[~(first_event_mask | pad_mask)].mean()\n",
    "        kl_loss = kl * 1\n",
    "\n",
    "        l = tpp_loss + kl_loss\n",
    "\n",
    "        # optim\n",
    "        optimizer.zero_grad()\n",
    "        l.backward()\n",
    "        optimizer.step()\n",
    "\n",
    "    print('tpp_loss:', tpp_loss.item(), 'kl_loss:', kl_loss.item())\n",
    "    print('ground truth:'); plt.imshow(comps[:, 1:]); plt.show()\n",
    "    res = logits.argmax(-1)\n",
    "    res[pad_mask] = -1\n",
    "    print('inference:'); plt.imshow(utils.rearrange_z(res[:, 1:], opt).detach()); plt.show()\n"
   ]
  },
  {
   "cell_type": "code",
   "execution_count": null,
   "id": "6de7496e-8c8e-4f03-b57b-10d53a4a5b85",
   "metadata": {},
   "outputs": [],
   "source": []
  }
 ],
 "metadata": {
  "kernelspec": {
   "display_name": "cu102",
   "language": "python",
   "name": "cu102"
  },
  "language_info": {
   "codemirror_mode": {
    "name": "ipython",
    "version": 3
   },
   "file_extension": ".py",
   "mimetype": "text/x-python",
   "name": "python",
   "nbconvert_exporter": "python",
   "pygments_lexer": "ipython3",
   "version": "3.8.16"
  },
  "vscode": {
   "interpreter": {
    "hash": "31f2aee4e71d21fbe5cf8b01ff0e069b9275f58929596ceb00d14d90e3e16cd6"
   }
  }
 },
 "nbformat": 4,
 "nbformat_minor": 5
}
