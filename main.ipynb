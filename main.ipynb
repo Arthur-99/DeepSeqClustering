{
 "cells": [
  {
   "cell_type": "code",
   "execution_count": 1,
   "id": "dfd39f20-1d4d-474d-be87-284d759647c6",
   "metadata": {},
   "outputs": [
    {
     "name": "stderr",
     "output_type": "stream",
     "text": [
      "[2022-11-28 12:13:41,027.027 dsw43543-7f8448f5d4-d4j6q:22562 INFO utils.py:30] NOTICE: PAIDEBUGGER is turned off.\n"
     ]
    },
    {
     "name": "stdout",
     "output_type": "stream",
     "text": [
      "[Info] parameters: Namespace(agg='attn', batch_size=16, d_inner_hid=64, d_k=16, d_model=32, d_v=16, data='data_sep/', device=device(type='cuda', index=0), dropout=0.1, epoch=10, lr=0.0001, model='cstpp', n_comps=2, n_head=2, n_layers=2, smooth=0.1)\n",
      "[Info] Loading train data...\n",
      "[Info] Loading dev data...\n",
      "[Info] Loading test data...\n",
      "[Info] reloading data: scaling timestamps to 0.920 times of the original\n",
      "[Info] Loading train data...\n",
      "[Info] Loading dev data...\n",
      "[Info] Loading test data...\n"
     ]
    }
   ],
   "source": [
    "import torch\n",
    "import utils\n",
    "import constants\n",
    "from dataset import prepare_dataloader\n",
    "\n",
    "utils.set_seed(42)\n",
    "parser = utils.get_parser()\n",
    "\n",
    "opt = parser.parse_args(args=['-data', \n",
    "                              'data_sep/', \n",
    "                              '-n_layers', '2',\n",
    "                              '-batch_size', '16', '-d_model', '32', \"-d_inner_hid\", '64', '-n_head', '2', '-lr', '1e-4',\n",
    "                              '-model', 'cstpp', '-n_comps', '2', '-epoch', '10', '-device', '0'])\n",
    "if torch.cuda.is_available() and opt.device != -1:\n",
    "    opt.device = torch.device('cuda:' + str(opt.device))  \n",
    "else:\n",
    "    opt.device = torch.device('cpu')\n",
    "print('[Info] parameters: {}'.format(opt))\n",
    "\n",
    "trainloader, testloader, num_types = prepare_dataloader(opt)\n",
    "time_scale = utils.get_time_scale(trainloader)\n",
    "print('[Info] reloading data: scaling timestamps to {:.3f} times of the original'.format(1 / time_scale))\n",
    "trainloader, testloader, num_types = prepare_dataloader(opt, time_scale)\n",
    "\n",
    "batch = next(iter(trainloader)) # times, time intervals, markers, clusters"
   ]
  },
  {
   "cell_type": "code",
   "execution_count": 2,
   "id": "3d41b52a-0ec7-40a0-9b42-7c74c7ed03f1",
   "metadata": {},
   "outputs": [],
   "source": [
    "times, intervals, markers, clusters = batch"
   ]
  },
  {
   "cell_type": "code",
   "execution_count": 3,
   "id": "970f1ca2-3eab-45a8-9bfd-de9509a97ca9",
   "metadata": {},
   "outputs": [],
   "source": [
    "import torch.nn.functional as F\n",
    "from torch import nn, optim\n",
    "\n",
    "import matplotlib.pyplot as plt\n",
    "%matplotlib inline"
   ]
  },
  {
   "cell_type": "code",
   "execution_count": 4,
   "id": "b5025b2c-b246-4172-9bf6-9709341e9360",
   "metadata": {},
   "outputs": [],
   "source": [
    "from models.eemb import EventEmb, TimeEncode\n",
    "from models.tfm import TfmEnc, TfmEncLayer\n",
    "from einops import rearrange, repeat"
   ]
  },
  {
   "cell_type": "code",
   "execution_count": 5,
   "id": "62009e57-16e9-4454-a133-c4a0723f0ee7",
   "metadata": {},
   "outputs": [],
   "source": [
    "ee = EventEmb(d_model=32, marker_num=num_types)\n",
    "# x = ee(times, markers)"
   ]
  },
  {
   "cell_type": "code",
   "execution_count": 6,
   "id": "6cf130e8-1dec-416c-86a1-da8fb402526d",
   "metadata": {},
   "outputs": [],
   "source": [
    "# pad_mask = (markers == constants.PAD) # (b, s)\n",
    "# attn_mask = torch.triu(torch.ones(x.shape[-2], x.shape[-2]), diagonal=1).bool() # (s, s)"
   ]
  },
  {
   "cell_type": "code",
   "execution_count": 7,
   "id": "d906cf18-cc17-4653-8f11-35ee88c60c71",
   "metadata": {},
   "outputs": [],
   "source": [
    "class InferenceNetwork(nn.Module):\n",
    "    # q(Z | X)\n",
    "    def __init__(self, d_model, n_layer, n_head, K):\n",
    "        super().__init__()\n",
    "        self.enc = TfmEnc(n_layer, TfmEncLayer, d_model=d_model, n_head=n_head)\n",
    "        self.lin = nn.Linear(d_model, K)\n",
    "        \n",
    "    def forward(self, x, pad_mask, attn_mask):\n",
    "        h = self.enc(x, pad_mask, attn_mask) # (b, s, d)\n",
    "        logits = self.lin(h) # (b, s, k)\n",
    "        return logits\n",
    "        \n",
    "net = InferenceNetwork(d_model=32, n_layer=3, n_head=4, K=4)\n",
    "# logits = net(x, pad_mask, attn_mask)"
   ]
  },
  {
   "cell_type": "code",
   "execution_count": 8,
   "id": "0ff85d48-0e48-4151-91a0-d5f9fa345b84",
   "metadata": {},
   "outputs": [],
   "source": [
    "# z = F.gumbel_softmax(logits, tau=0.1, hard=True) # b, s, k"
   ]
  },
  {
   "cell_type": "code",
   "execution_count": 9,
   "id": "00bc4fa2-73ef-4dfe-9fb2-10da17304d9b",
   "metadata": {},
   "outputs": [],
   "source": [
    "from models.ctfm import cTfmEnc, cTfmEncLayer\n",
    "    \n",
    "cte = cTfmEnc(n_layer=3, layer=cTfmEncLayer, d_model=32, n_head=4)\n",
    "# o = cte(x, z, pad_mask, attn_mask)"
   ]
  },
  {
   "cell_type": "code",
   "execution_count": 11,
   "id": "7b8be10d-50ad-4f71-aa3d-0d6b7dc44106",
   "metadata": {},
   "outputs": [],
   "source": [
    "# h_last, dt_last, first_event_mask = get_last_event_info(o, times, z)"
   ]
  },
  {
   "cell_type": "code",
   "execution_count": 12,
   "id": "aefbe2b2-aeea-4ab5-9d11-ee1fd23e4835",
   "metadata": {},
   "outputs": [
    {
     "name": "stdout",
     "output_type": "stream",
     "text": [
      "-37.95624542236328 -124.83500671386719\n",
      "Cannot get the env variable of GPU_STATUS_FILE, no data report to scheduler. This is not an error. It is because the scheduler of the cluster did not enable this feature.\n",
      "\n",
      "-54.815467834472656 -150.63311767578125\n",
      "-66.97294616699219 -164.8950958251953\n",
      "-89.5050277709961 -168.28248596191406\n",
      "-80.73877716064453 -166.86734008789062\n",
      "-87.12181091308594 -169.20614624023438\n",
      "-90.7705078125 -170.3634796142578\n",
      "-89.52899169921875 -171.69744873046875\n",
      "-86.95345306396484 -172.07424926757812\n",
      "-69.29158020019531 -172.49728393554688\n",
      "-83.3275146484375 -172.4024200439453\n",
      "-77.62583923339844 -171.9908447265625\n",
      "-76.7843017578125 -172.216064453125\n",
      "-77.90499114990234 -172.33558654785156\n",
      "-82.61210632324219 -172.21241760253906\n",
      "-85.9842300415039 -172.51515197753906\n",
      "-87.32313537597656 -172.60777282714844\n",
      "-74.83595275878906 -172.833984375\n",
      "-81.62506103515625 -172.79539489746094\n",
      "-80.03946685791016 -172.9567413330078\n",
      "-82.10260009765625 -173.0482940673828\n",
      "-86.7380599975586 -173.0704803466797\n",
      "-84.58094787597656 -173.11500549316406\n",
      "-76.22427368164062 -173.09677124023438\n",
      "-77.71636962890625 -173.1217803955078\n",
      "-89.69095611572266 -173.09713745117188\n",
      "-90.40786743164062 -173.1180877685547\n",
      "-89.1066665649414 -173.1515655517578\n",
      "-73.58668518066406 -173.156494140625\n",
      "-92.210693359375 -173.12649536132812\n",
      "-89.83124542236328 -173.15745544433594\n",
      "-86.3897705078125 -173.15219116210938\n",
      "-88.15629577636719 -173.18385314941406\n",
      "-71.39103698730469 -173.14024353027344\n",
      "-85.31024932861328 -173.1653594970703\n",
      "-75.71858215332031 -173.1859588623047\n",
      "-80.42158508300781 -173.21206665039062\n",
      "-87.33331298828125 -173.18751525878906\n"
     ]
    },
    {
     "data": {
      "image/png": "[encoded data removed]",
      "text/plain": [
       "<Figure size 432x288 with 1 Axes>"
      ]
     },
     "metadata": {
      "needs_background": "light"
     },
     "output_type": "display_data"
    },
    {
     "data": {
      "image/png": "[encoded data removed]",
      "text/plain": [
       "<Figure size 432x288 with 1 Axes>"
      ]
     },
     "metadata": {
      "needs_background": "light"
     },
     "output_type": "display_data"
    },
    {
     "name": "stdout",
     "output_type": "stream",
     "text": [
      "-79.59336853027344 -173.21189880371094\n",
      "-72.92933654785156 -173.21652221679688\n",
      "-81.1465835571289 -173.2121124267578\n",
      "-95.42448425292969 -173.2140655517578\n",
      "-82.6375503540039 -173.2145233154297\n",
      "-90.51216125488281 -173.21664428710938\n",
      "-83.67449951171875 -173.21820068359375\n",
      "-84.84368133544922 -173.22622680664062\n",
      "-83.27088928222656 -173.22634887695312\n",
      "-76.85016632080078 -173.23110961914062\n",
      "-81.65863037109375 -173.22500610351562\n",
      "-83.53219604492188 -173.24183654785156\n",
      "-75.67394256591797 -173.23545837402344\n",
      "-89.25615692138672 -173.23324584960938\n",
      "-83.93270111083984 -173.24032592773438\n",
      "-80.31272888183594 -173.240234375\n",
      "-86.23644256591797 -173.23757934570312\n",
      "-74.93107604980469 -173.2465057373047\n",
      "-81.24500274658203 -173.2428436279297\n",
      "-88.19511413574219 -173.25714111328125\n",
      "-80.3120346069336 -173.24412536621094\n",
      "-83.5356216430664 -173.24478149414062\n",
      "-79.20108795166016 -173.24891662597656\n",
      "-87.49708557128906 -173.2451171875\n",
      "-83.4881362915039 -173.25079345703125\n",
      "-83.64766693115234 -173.25564575195312\n",
      "-71.86612701416016 -173.24853515625\n",
      "-83.17745208740234 -173.2542724609375\n",
      "-80.16167449951172 -173.24998474121094\n",
      "-81.78064727783203 -173.25494384765625\n",
      "-88.06027221679688 -173.25747680664062\n",
      "-78.3110122680664 -173.2541961669922\n",
      "-76.94005584716797 -173.26174926757812\n",
      "-77.95819854736328 -173.2550811767578\n",
      "-75.26423645019531 -173.25576782226562\n",
      "-93.82792663574219 -173.25732421875\n",
      "-88.40840148925781 -173.25851440429688\n",
      "-75.76904296875 -173.26219177246094\n"
     ]
    },
    {
     "data": {
      "image/png": "[encoded data removed]",
      "text/plain": [
       "<Figure size 432x288 with 1 Axes>"
      ]
     },
     "metadata": {
      "needs_background": "light"
     },
     "output_type": "display_data"
    },
    {
     "data": {
      "image/png": "[encoded data removed]",
      "text/plain": [
       "<Figure size 432x288 with 1 Axes>"
      ]
     },
     "metadata": {
      "needs_background": "light"
     },
     "output_type": "display_data"
    },
    {
     "name": "stdout",
     "output_type": "stream",
     "text": [
      "-84.5286865234375 -173.25735473632812\n",
      "-90.98673248291016 -173.26161193847656\n",
      "-85.15437316894531 -173.2595977783203\n",
      "-79.46233367919922 -173.2605743408203\n",
      "-82.09825897216797 -173.2623291015625\n",
      "-89.79621887207031 -173.2627716064453\n",
      "-77.18663024902344 -173.25779724121094\n",
      "-80.91004943847656 -173.26524353027344\n",
      "-84.85861206054688 -173.26266479492188\n",
      "-79.26707458496094 -173.26324462890625\n",
      "-89.64137268066406 -173.26422119140625\n",
      "-83.95836639404297 -173.26675415039062\n",
      "-79.83321380615234 -173.2642364501953\n",
      "-77.98109436035156 -173.26528930664062\n",
      "-94.18531799316406 -173.26707458496094\n",
      "-82.36016082763672 -173.2631072998047\n",
      "-85.24708557128906 -173.26332092285156\n",
      "-79.05668640136719 -173.26564025878906\n",
      "-81.89241790771484 -173.26455688476562\n",
      "-87.03507232666016 -173.26455688476562\n",
      "-82.5381088256836 -173.2667236328125\n",
      "-78.98948669433594 -173.26710510253906\n",
      "-81.21324157714844 -173.2676544189453\n",
      "-84.27183532714844 -173.2653045654297\n",
      "-80.51765441894531 -173.26609802246094\n",
      "-82.72166442871094 -173.26527404785156\n",
      "-94.69075012207031 -173.26666259765625\n",
      "-68.63734436035156 -173.2678985595703\n",
      "-83.40756225585938 -173.265625\n",
      "-78.25787353515625 -173.26954650878906\n",
      "-83.13743591308594 -173.26544189453125\n",
      "-77.8849105834961 -173.2670135498047\n",
      "-80.73902893066406 -173.27059936523438\n",
      "-86.99436950683594 -173.27122497558594\n",
      "-83.32508850097656 -173.26901245117188\n",
      "-83.80223083496094 -173.26905822753906\n",
      "-78.16590881347656 -173.2681427001953\n",
      "-71.2831802368164 -173.26792907714844\n"
     ]
    },
    {
     "data": {
      "image/png": "[encoded data removed]",
      "text/plain": [
       "<Figure size 432x288 with 1 Axes>"
      ]
     },
     "metadata": {
      "needs_background": "light"
     },
     "output_type": "display_data"
    },
    {
     "data": {
      "image/png": "[encoded data removed]",
      "text/plain": [
       "<Figure size 432x288 with 1 Axes>"
      ]
     },
     "metadata": {
      "needs_background": "light"
     },
     "output_type": "display_data"
    },
    {
     "name": "stdout",
     "output_type": "stream",
     "text": [
      "-93.18873596191406 -173.2711181640625\n",
      "-70.25096130371094 -173.27197265625\n",
      "-86.26139068603516 -173.2709503173828\n",
      "-73.84867095947266 -173.26625061035156\n",
      "-83.0107421875 -173.27171325683594\n",
      "-76.59999084472656 -173.2705078125\n",
      "-83.78005981445312 -173.2723388671875\n",
      "-77.62001037597656 -173.26995849609375\n",
      "-90.6938705444336 -173.26986694335938\n",
      "-72.2602310180664 -173.27243041992188\n",
      "-78.0279769897461 -173.27316284179688\n",
      "-78.27638244628906 -173.27345275878906\n",
      "-84.38350677490234 -173.271484375\n",
      "-85.26234436035156 -173.2733612060547\n",
      "-87.18269348144531 -173.27444458007812\n",
      "-79.3616943359375 -173.27163696289062\n",
      "-76.27997589111328 -173.2739715576172\n",
      "-83.51661682128906 -173.2760009765625\n",
      "-98.71719360351562 -173.27357482910156\n",
      "-84.32950592041016 -173.27406311035156\n",
      "-80.1362533569336 -173.27508544921875\n",
      "-88.14054870605469 -173.27520751953125\n",
      "-85.20658874511719 -173.2759246826172\n",
      "-69.76434326171875 -173.2733154296875\n",
      "-90.64765930175781 -173.27500915527344\n",
      "-91.36669921875 -173.27349853515625\n",
      "-72.70376586914062 -173.27420043945312\n",
      "-78.80158233642578 -173.27490234375\n",
      "-79.58671569824219 -173.2738037109375\n",
      "-84.360595703125 -173.27552795410156\n",
      "-81.04597473144531 -173.27593994140625\n",
      "-78.39573669433594 -173.27536010742188\n",
      "-82.32231140136719 -173.27633666992188\n",
      "-79.75662994384766 -173.27658081054688\n",
      "-82.03901672363281 -173.27447509765625\n",
      "-78.03620910644531 -173.2756805419922\n",
      "-81.2802734375 -173.27651977539062\n",
      "-70.1856918334961 -173.27786254882812\n"
     ]
    },
    {
     "data": {
      "image/png": "[encoded data removed]",
      "text/plain": [
       "<Figure size 432x288 with 1 Axes>"
      ]
     },
     "metadata": {
      "needs_background": "light"
     },
     "output_type": "display_data"
    },
    {
     "data": {
      "image/png": "[encoded data removed]",
      "text/plain": [
       "<Figure size 432x288 with 1 Axes>"
      ]
     },
     "metadata": {
      "needs_background": "light"
     },
     "output_type": "display_data"
    },
    {
     "name": "stdout",
     "output_type": "stream",
     "text": [
      "-83.66206359863281 -173.27499389648438\n",
      "-74.65132141113281 -173.27676391601562\n",
      "-76.18464660644531 -173.2774658203125\n",
      "-78.16126251220703 -173.2776336669922\n",
      "-79.0274429321289 -173.2775115966797\n",
      "-77.72125244140625 -173.27674865722656\n",
      "-92.55387878417969 -173.2781982421875\n",
      "-88.81497955322266 -173.27684020996094\n",
      "-87.19020080566406 -173.27792358398438\n",
      "-74.29374694824219 -173.2779998779297\n",
      "-87.11872863769531 -173.27760314941406\n",
      "-84.09771728515625 -173.2778778076172\n",
      "-66.25863647460938 -173.27780151367188\n",
      "-78.68292236328125 -173.27850341796875\n",
      "-74.21358489990234 -173.278076171875\n",
      "-84.90213012695312 -173.27688598632812\n",
      "-84.15731811523438 -173.2787322998047\n",
      "-84.05595397949219 -173.27755737304688\n",
      "-82.80656433105469 -173.27749633789062\n",
      "-91.97310638427734 -173.27825927734375\n",
      "-88.11506652832031 -173.27862548828125\n",
      "-78.98228454589844 -173.2775115966797\n",
      "-88.16490173339844 -173.27833557128906\n",
      "-83.26436614990234 -173.27777099609375\n",
      "-78.64170837402344 -173.27932739257812\n",
      "-82.85249328613281 -173.2783203125\n",
      "-82.1108627319336 -173.2801055908203\n",
      "-79.11747741699219 -173.27853393554688\n",
      "-75.42928314208984 -173.2782440185547\n",
      "-88.02556610107422 -173.27847290039062\n",
      "-92.8060073852539 -173.28004455566406\n",
      "-68.0296630859375 -173.27928161621094\n",
      "-93.1067123413086 -173.27685546875\n",
      "-81.13410949707031 -173.2804412841797\n",
      "-79.00801849365234 -173.27926635742188\n",
      "-80.71057891845703 -173.27911376953125\n",
      "-84.27994537353516 -173.2802734375\n",
      "-79.48335266113281 -173.2783660888672\n"
     ]
    },
    {
     "data": {
      "image/png": "[encoded data removed]",
      "text/plain": [
       "<Figure size 432x288 with 1 Axes>"
      ]
     },
     "metadata": {
      "needs_background": "light"
     },
     "output_type": "display_data"
    },
    {
     "data": {
      "image/png": "[encoded data removed]",
      "text/plain": [
       "<Figure size 432x288 with 1 Axes>"
      ]
     },
     "metadata": {
      "needs_background": "light"
     },
     "output_type": "display_data"
    },
    {
     "name": "stdout",
     "output_type": "stream",
     "text": [
      "-94.04493713378906 -173.27951049804688\n",
      "-82.04940795898438 -173.2791290283203\n",
      "-87.52102661132812 -173.27944946289062\n",
      "-81.38447570800781 -173.2805633544922\n",
      "-64.14271545410156 -173.2801055908203\n",
      "-101.23888397216797 -173.2799530029297\n",
      "-86.63565063476562 -173.2801055908203\n",
      "-75.10030364990234 -173.281494140625\n",
      "-86.89921569824219 -173.28036499023438\n",
      "-84.2678451538086 -173.28067016601562\n",
      "-76.39894104003906 -173.28085327148438\n",
      "-79.31505584716797 -173.27967834472656\n",
      "-92.8611068725586 -173.2807159423828\n",
      "-65.46448516845703 -173.28005981445312\n",
      "-91.75153350830078 -173.28103637695312\n",
      "-88.2625732421875 -173.2816925048828\n",
      "-83.20073699951172 -173.28077697753906\n",
      "-76.6143798828125 -173.2809295654297\n",
      "-74.85919189453125 -173.28114318847656\n",
      "-73.96348571777344 -173.28074645996094\n",
      "-84.39973449707031 -173.28143310546875\n",
      "-79.17356872558594 -173.2804718017578\n",
      "-81.85481262207031 -173.28086853027344\n",
      "-94.3910903930664 -173.281494140625\n",
      "-79.41078186035156 -173.28086853027344\n",
      "-73.13044738769531 -173.2801513671875\n",
      "-79.63786315917969 -173.28228759765625\n",
      "-83.9792251586914 -173.2816619873047\n",
      "-84.18758392333984 -173.28085327148438\n",
      "-90.53511047363281 -173.28189086914062\n",
      "-79.04156494140625 -173.28103637695312\n",
      "-88.46774291992188 -173.28123474121094\n",
      "-79.46037292480469 -173.28172302246094\n",
      "-90.28263092041016 -173.28196716308594\n",
      "-87.7796630859375 -173.28211975097656\n",
      "-80.79051208496094 -173.28225708007812\n",
      "-95.67681884765625 -173.28221130371094\n",
      "-100.7935791015625 -173.28077697753906\n"
     ]
    },
    {
     "data": {
      "image/png": "[encoded data removed]",
      "text/plain": [
       "<Figure size 432x288 with 1 Axes>"
      ]
     },
     "metadata": {
      "needs_background": "light"
     },
     "output_type": "display_data"
    },
    {
     "data": {
      "image/png": "[encoded data removed]",
      "text/plain": [
       "<Figure size 432x288 with 1 Axes>"
      ]
     },
     "metadata": {
      "needs_background": "light"
     },
     "output_type": "display_data"
    },
    {
     "name": "stdout",
     "output_type": "stream",
     "text": [
      "-87.87092590332031 -173.2818145751953\n",
      "-83.36070251464844 -173.2821044921875\n",
      "-87.01914978027344 -173.2823028564453\n",
      "-75.47322082519531 -173.281982421875\n",
      "-78.4078140258789 -173.2822723388672\n",
      "-78.84677124023438 -173.2818603515625\n",
      "-81.83927154541016 -173.2820281982422\n",
      "-75.5289535522461 -173.2822265625\n",
      "-85.74441528320312 -173.2816162109375\n",
      "-89.6805191040039 -173.28208923339844\n",
      "-73.39473724365234 -173.28219604492188\n",
      "-75.76728820800781 -173.2818145751953\n",
      "-85.66737365722656 -173.28207397460938\n",
      "-86.26060485839844 -173.28248596191406\n",
      "-78.58778381347656 -173.2817840576172\n",
      "-79.23197174072266 -173.28221130371094\n",
      "-78.37357330322266 -173.28216552734375\n",
      "-71.35395812988281 -173.28155517578125\n",
      "-88.36339569091797 -173.28289794921875\n",
      "-87.40819549560547 -173.28201293945312\n",
      "-68.89652252197266 -173.2827606201172\n",
      "-82.5255355834961 -173.2830047607422\n",
      "-84.1943588256836 -173.2821807861328\n",
      "-72.51554870605469 -173.28233337402344\n",
      "-91.82521057128906 -173.28175354003906\n",
      "-91.88614654541016 -173.28289794921875\n",
      "-76.96918487548828 -173.28245544433594\n",
      "-79.71754455566406 -173.28292846679688\n",
      "-90.04354095458984 -173.28355407714844\n",
      "-82.5482406616211 -173.2830810546875\n",
      "-82.44159698486328 -173.28175354003906\n",
      "-81.61674499511719 -173.28225708007812\n",
      "-97.6937255859375 -173.282958984375\n",
      "-80.52464294433594 -173.28184509277344\n",
      "-81.25109100341797 -173.2827911376953\n",
      "-78.88313293457031 -173.28280639648438\n",
      "-86.50016021728516 -173.2834930419922\n",
      "-96.0838851928711 -173.28298950195312\n"
     ]
    },
    {
     "data": {
      "image/png": "[encoded data removed]",
      "text/plain": [
       "<Figure size 432x288 with 1 Axes>"
      ]
     },
     "metadata": {
      "needs_background": "light"
     },
     "output_type": "display_data"
    },
    {
     "data": {
      "image/png": "[encoded data removed]",
      "text/plain": [
       "<Figure size 432x288 with 1 Axes>"
      ]
     },
     "metadata": {
      "needs_background": "light"
     },
     "output_type": "display_data"
    },
    {
     "name": "stdout",
     "output_type": "stream",
     "text": [
      "-84.27425384521484 -173.2824249267578\n",
      "-88.0322036743164 -173.28309631347656\n",
      "-72.44711303710938 -173.28250122070312\n",
      "-88.62010192871094 -173.28358459472656\n",
      "-87.06591796875 -173.28269958496094\n",
      "-87.67158508300781 -173.28282165527344\n",
      "-80.46861267089844 -173.28367614746094\n",
      "-84.30447387695312 -173.28372192382812\n",
      "-83.35848999023438 -173.28311157226562\n",
      "-78.3833236694336 -173.28269958496094\n",
      "-78.39514923095703 -173.28273010253906\n",
      "-74.45677185058594 -173.28305053710938\n",
      "-92.4013671875 -173.28359985351562\n",
      "-79.46512603759766 -173.28306579589844\n",
      "-75.51383209228516 -173.28358459472656\n",
      "-79.91136169433594 -173.28250122070312\n",
      "-66.98231506347656 -173.28314208984375\n",
      "-78.40867614746094 -173.28309631347656\n",
      "-96.32060241699219 -173.2832794189453\n",
      "-80.88677978515625 -173.28294372558594\n",
      "-83.67212677001953 -173.28382873535156\n",
      "-84.22789001464844 -173.28343200683594\n",
      "-80.48905944824219 -173.2838897705078\n",
      "-72.15866088867188 -173.28370666503906\n",
      "-89.05992126464844 -173.283447265625\n",
      "-81.22773742675781 -173.2833251953125\n",
      "-86.91047668457031 -173.2832794189453\n",
      "-80.95680236816406 -173.28347778320312\n",
      "-83.2228775024414 -173.2835693359375\n",
      "-84.8663558959961 -173.282958984375\n",
      "-86.24373626708984 -173.28375244140625\n",
      "-90.65620422363281 -173.28407287597656\n",
      "-76.16548919677734 -173.28334045410156\n",
      "-85.3270492553711 -173.2832794189453\n",
      "-77.80462646484375 -173.28358459472656\n",
      "-84.29521942138672 -173.2836456298828\n",
      "-91.08942413330078 -173.28323364257812\n",
      "-75.74095916748047 -173.28323364257812\n"
     ]
    },
    {
     "data": {
      "image/png": "[encoded data removed]",
      "text/plain": [
       "<Figure size 432x288 with 1 Axes>"
      ]
     },
     "metadata": {
      "needs_background": "light"
     },
     "output_type": "display_data"
    },
    {
     "data": {
      "image/png": "[encoded data removed]",
      "text/plain": [
       "<Figure size 432x288 with 1 Axes>"
      ]
     },
     "metadata": {
      "needs_background": "light"
     },
     "output_type": "display_data"
    },
    {
     "name": "stdout",
     "output_type": "stream",
     "text": [
      "-74.24345397949219 -173.28396606445312\n",
      "-77.85015869140625 -173.2837677001953\n",
      "-76.89665222167969 -173.28353881835938\n",
      "-87.83485412597656 -173.28366088867188\n",
      "-77.60784149169922 -173.28334045410156\n",
      "-81.86837768554688 -173.2838134765625\n",
      "-75.44339752197266 -173.2845001220703\n",
      "-84.91213989257812 -173.28282165527344\n",
      "-89.5544204711914 -173.2837371826172\n",
      "-83.97020721435547 -173.2837677001953\n",
      "-86.58181762695312 -173.28419494628906\n",
      "-76.27180480957031 -173.28395080566406\n",
      "-81.91667175292969 -173.28347778320312\n",
      "-76.61846923828125 -173.28363037109375\n",
      "-90.50764465332031 -173.28314208984375\n",
      "-79.4558334350586 -173.28390502929688\n",
      "-84.33290100097656 -173.28363037109375\n",
      "-81.84008026123047 -173.28404235839844\n",
      "-74.38232421875 -173.28443908691406\n",
      "-71.68575286865234 -173.28416442871094\n",
      "-78.49488830566406 -173.28392028808594\n",
      "-88.3342514038086 -173.2839813232422\n",
      "-90.85245513916016 -173.28346252441406\n",
      "-99.66278076171875 -173.2841339111328\n",
      "-81.10649108886719 -173.282958984375\n",
      "-76.02420806884766 -173.28321838378906\n",
      "-81.34388732910156 -173.2840576171875\n",
      "-94.81443786621094 -173.28378295898438\n",
      "-81.61276245117188 -173.28419494628906\n",
      "-69.9511947631836 -173.28382873535156\n",
      "-91.75845336914062 -173.28433227539062\n",
      "-76.60368347167969 -173.2837677001953\n",
      "-92.5068588256836 -173.28436279296875\n",
      "-87.79715728759766 -173.28387451171875\n",
      "-88.44525146484375 -173.28421020507812\n",
      "-85.62052154541016 -173.28433227539062\n",
      "-83.28755950927734 -173.28363037109375\n",
      "-90.24461364746094 -173.28358459472656\n"
     ]
    },
    {
     "data": {
      "image/png": "[encoded data removed]",
      "text/plain": [
       "<Figure size 432x288 with 1 Axes>"
      ]
     },
     "metadata": {
      "needs_background": "light"
     },
     "output_type": "display_data"
    },
    {
     "data": {
      "image/png": "[encoded data removed]",
      "text/plain": [
       "<Figure size 432x288 with 1 Axes>"
      ]
     },
     "metadata": {
      "needs_background": "light"
     },
     "output_type": "display_data"
    },
    {
     "name": "stdout",
     "output_type": "stream",
     "text": [
      "-69.38987731933594 -173.2843780517578\n",
      "-80.91200256347656 -173.2840118408203\n",
      "-83.03041076660156 -173.28382873535156\n",
      "-84.11915588378906 -173.2843475341797\n",
      "-78.41081237792969 -173.28369140625\n",
      "-82.63700866699219 -173.2828826904297\n",
      "-93.1399917602539 -173.28457641601562\n",
      "-90.55018615722656 -173.28424072265625\n",
      "-78.36624145507812 -173.2843780517578\n",
      "-93.499755859375 -173.2843475341797\n",
      "-76.91493225097656 -173.28460693359375\n",
      "-69.9161605834961 -173.28416442871094\n",
      "-81.56114196777344 -173.28421020507812\n",
      "-85.47274017333984 -173.28392028808594\n",
      "-81.41458129882812 -173.2840576171875\n",
      "-87.44273376464844 -173.2838134765625\n",
      "-85.04722595214844 -173.28466796875\n",
      "-69.83799743652344 -173.28443908691406\n",
      "-75.96022033691406 -173.2839813232422\n",
      "-87.588623046875 -173.2841339111328\n",
      "-82.6553955078125 -173.28456115722656\n",
      "-87.15934753417969 -173.2843780517578\n",
      "-75.6382064819336 -173.28451538085938\n",
      "-90.80256652832031 -173.28440856933594\n",
      "-83.4129867553711 -173.28463745117188\n",
      "-79.42987823486328 -173.28396606445312\n",
      "-84.87577056884766 -173.28436279296875\n",
      "-83.23274230957031 -173.28443908691406\n",
      "-97.52372741699219 -173.284423828125\n",
      "-78.65876007080078 -173.28468322753906\n",
      "-87.5810317993164 -173.2842254638672\n",
      "-89.46771240234375 -173.28469848632812\n",
      "-97.30741119384766 -173.2847900390625\n",
      "-80.86466979980469 -173.28472900390625\n",
      "-70.67513275146484 -173.2847137451172\n",
      "-81.40846252441406 -173.28433227539062\n",
      "-88.04498291015625 -173.28457641601562\n",
      "-93.07144927978516 -173.28408813476562\n"
     ]
    },
    {
     "data": {
      "image/png": "[encoded data removed]",
      "text/plain": [
       "<Figure size 432x288 with 1 Axes>"
      ]
     },
     "metadata": {
      "needs_background": "light"
     },
     "output_type": "display_data"
    },
    {
     "data": {
      "image/png": "[encoded data removed]",
      "text/plain": [
       "<Figure size 432x288 with 1 Axes>"
      ]
     },
     "metadata": {
      "needs_background": "light"
     },
     "output_type": "display_data"
    }
   ],
   "source": [
    "# o_last, t_last, t -> log_prob\n",
    "from models.tpp import TPP\n",
    "\n",
    "    \n",
    "tpp = TPP(d_model=32, marker_num=num_types, device=opt.device)\n",
    "\n",
    "import itertools\n",
    "optimizer = optim.Adam(itertools.chain(\n",
    "    list(ee.parameters()),\n",
    "    list(net.parameters()),\n",
    "    list(cte.parameters()),\n",
    "    list(tpp.parameters()),\n",
    "))\n",
    "\n",
    "for epo in range(10):\n",
    "    for times, _, markers, comps in trainloader:\n",
    "        # encoder\n",
    "        x = ee(times, markers)\n",
    "        pad_mask = (markers == constants.PAD) # (b, s)\n",
    "        attn_mask = torch.triu(torch.ones(x.shape[-2], x.shape[-2]), diagonal=1).bool() # (s, s)\n",
    "        logits = net(x, pad_mask, attn_mask)\n",
    "\n",
    "        # loss\n",
    "        tpp_loss = []\n",
    "        for i in range(5):\n",
    "            # sampler\n",
    "            z = F.gumbel_softmax(logits, tau=0.1, hard=True) # b, s, k\n",
    "\n",
    "            # decoder\n",
    "            h = cte(x, z, pad_mask, attn_mask)\n",
    "            h_last, dt_last, first_event_mask = utils.get_last_event_info(h, times, z)\n",
    "            tpp_loss.append(tpp.loss(h_last, dt_last, markers, first_event_mask | pad_mask))\n",
    "\n",
    "        tpp_loss = torch.tensor(tpp_loss).mean()\n",
    "\n",
    "        pi = F.softmax(logits, -1)\n",
    "        kl = pi * torch.log(pi * opt.n_comps)\n",
    "        kl = kl[~(first_event_mask | pad_mask)].mean()\n",
    "        kl_loss = kl * 1000\n",
    "\n",
    "        l = tpp_loss + kl_loss\n",
    "\n",
    "        # optim\n",
    "        optimizer.zero_grad()\n",
    "        l.backward()\n",
    "        print(tpp_loss.item(), kl_loss.item())\n",
    "        optimizer.step()\n",
    "    \n",
    "    plt.imshow(comps); plt.show()\n",
    "    res = logits.argmax(-1)\n",
    "    res[pad_mask] = -1\n",
    "    plt.imshow(res.detach()); plt.show()\n"
   ]
  }
 ],
 "metadata": {
  "kernelspec": {
   "display_name": "Python 3 (ipykernel)",
   "language": "python",
   "name": "python3"
  },
  "language_info": {
   "codemirror_mode": {
    "name": "ipython",
    "version": 3
   },
   "file_extension": ".py",
   "mimetype": "text/x-python",
   "name": "python",
   "nbconvert_exporter": "python",
   "pygments_lexer": "ipython3",
   "version": "3.9.12"
  }
 },
 "nbformat": 4,
 "nbformat_minor": 5
}
